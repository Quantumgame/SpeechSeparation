{
 "cells": [
  {
   "cell_type": "code",
   "execution_count": null,
   "metadata": {},
   "outputs": [],
   "source": []
  },
  {
   "cell_type": "code",
   "execution_count": 1,
   "metadata": {},
   "outputs": [
    {
     "name": "stderr",
     "output_type": "stream",
     "text": [
      "Using TensorFlow backend.\n"
     ]
    },
    {
     "name": "stdout",
     "output_type": "stream",
     "text": [
      "Trace of the tensors shape as it is propagated through the network.\n",
      "Layer name \t Output size\n",
      "----------------------------\n",
      "x_pl \t\t (?, 129, 100, 1)\n",
      "conv1 \t\t (?, 129, 100, 16)\n",
      "deconv\t (?, ?, ?, 2)\n",
      "Model consits of  19218 trainable parameters.\n"
     ]
    },
    {
     "name": "stderr",
     "output_type": "stream",
     "text": [
      "/usr/local/lib/python3.5/dist-packages/ipykernel_launcher.py:89: RuntimeWarning: divide by zero encountered in log10\n"
     ]
    },
    {
     "name": "stdout",
     "output_type": "stream",
     "text": [
      "[[  3.39067938e+05   7.58943672e+04   0.00000000e+00 ...,   1.27869120e+08\n",
      "    9.21377920e+07   6.98368640e+07]\n",
      " [  0.00000000e+00   0.00000000e+00   0.00000000e+00 ...,   8.71678320e+07\n",
      "    6.14100240e+07   0.00000000e+00]\n",
      " [  0.00000000e+00   0.00000000e+00   0.00000000e+00 ...,   1.34032672e+08\n",
      "    6.50388560e+07   0.00000000e+00]\n",
      " ..., \n",
      " [  0.00000000e+00   1.50007792e+01   0.00000000e+00 ...,   0.00000000e+00\n",
      "    1.23161011e+01   1.17839384e+01]\n",
      " [  2.73476524e+01   1.75694294e+01   0.00000000e+00 ...,   2.55889177e+00\n",
      "    0.00000000e+00   9.97668648e+00]\n",
      " [  2.37202377e+01   1.98507233e+01   0.00000000e+00 ...,   0.00000000e+00\n",
      "    0.00000000e+00   3.52054656e-01]]\n"
     ]
    },
    {
     "name": "stderr",
     "output_type": "stream",
     "text": [
      "/usr/local/lib/python3.5/dist-packages/matplotlib/colors.py:860: RuntimeWarning: invalid value encountered in subtract\n",
      "  resdat -= vmin\n",
      "/usr/local/lib/python3.5/dist-packages/matplotlib/colors.py:861: RuntimeWarning: invalid value encountered in true_divide\n",
      "  resdat /= (vmax - vmin)\n",
      "/usr/local/lib/python3.5/dist-packages/matplotlib/colors.py:496: RuntimeWarning: invalid value encountered in less\n",
      "  cbook._putmask(xa, xa < 0.0, -1)\n"
     ]
    },
    {
     "data": {
      "image/png": "[encoded data removed]",
      "text/plain": [
       "<matplotlib.figure.Figure at 0x7fbcba10cba8>"
      ]
     },
     "metadata": {},
     "output_type": "display_data"
    },
    {
     "name": "stdout",
     "output_type": "stream",
     "text": [
      "Forward pass successful!\n",
      "Begin training loop\n",
      "Epoch 1 : Train Loss 12749566394761216.000, Valid loss 11834635281498112.000\n",
      "[[  0.00000000e+00   0.00000000e+00   0.00000000e+00 ...,   6.85858850e+06\n",
      "    3.47312200e+06   2.15469725e+06]\n",
      " [  1.58531958e+03   6.05550000e+03   0.00000000e+00 ...,   0.00000000e+00\n",
      "    2.09427862e+06   0.00000000e+00]\n",
      " [  1.28524561e+03   0.00000000e+00   0.00000000e+00 ...,   1.94838359e+05\n",
      "    0.00000000e+00   0.00000000e+00]\n",
      " ..., \n",
      " [  0.00000000e+00   5.92192125e+00   7.33740616e+01 ...,   2.45492752e+02\n",
      "    0.00000000e+00   1.42607617e+03]\n",
      " [  0.00000000e+00   0.00000000e+00   2.73037891e+01 ...,   4.03688904e+02\n",
      "    0.00000000e+00   0.00000000e+00]\n",
      " [  0.00000000e+00   0.00000000e+00   4.96426964e+01 ...,   7.95178345e+02\n",
      "    0.00000000e+00   0.00000000e+00]]\n"
     ]
    },
    {
     "name": "stderr",
     "output_type": "stream",
     "text": [
      "/usr/local/lib/python3.5/dist-packages/ipykernel_launcher.py:157: RuntimeWarning: divide by zero encountered in log10\n",
      "/usr/local/lib/python3.5/dist-packages/matplotlib/colors.py:860: RuntimeWarning: invalid value encountered in subtract\n",
      "  resdat -= vmin\n",
      "/usr/local/lib/python3.5/dist-packages/matplotlib/colors.py:861: RuntimeWarning: invalid value encountered in true_divide\n",
      "  resdat /= (vmax - vmin)\n",
      "/usr/local/lib/python3.5/dist-packages/matplotlib/colors.py:496: RuntimeWarning: invalid value encountered in less\n",
      "  cbook._putmask(xa, xa < 0.0, -1)\n"
     ]
    },
    {
     "data": {
      "image/png": "[encoded data removed]",
      "text/plain": [
       "<matplotlib.figure.Figure at 0x7fbcb8501240>"
      ]
     },
     "metadata": {},
     "output_type": "display_data"
    },
    {
     "data": {
      "text/plain": [
       "(<matplotlib.text.Text at 0x7fbcb85c7b00>,\n",
       " <matplotlib.text.Text at 0x7fbcb8527898>,\n",
       " (0.75, 1.03))"
      ]
     },
     "execution_count": 1,
     "metadata": {},
     "output_type": "execute_result"
    },
    {
     "data": {
      "image/png": "[encoded data removed]",
      "text/plain": [
       "<matplotlib.figure.Figure at 0x7fbcb85df588>"
      ]
     },
     "metadata": {},
     "output_type": "display_data"
    }
   ],
   "source": [
    "from __future__ import absolute_import, division, print_function\n",
    "\n",
    "import matplotlib.pyplot as plt\n",
    "%matplotlib inline\n",
    "\n",
    "import numpy as np\n",
    "import tensorflow as tf\n",
    "import utils\n",
    "from librispeech_mixer import LibriSpeechMixer\n",
    "from keras.layers import Input, Dense, Conv2D, MaxPooling2D, Conv2DTranspose\n",
    "\n",
    "\n",
    "tf.reset_default_graph()\n",
    "\n",
    "height, width, nchannels = 129, 100, 1\n",
    "padding = 'same'\n",
    "\n",
    "filters_1 = 16\n",
    "kernel_size_1 = (20,20)\n",
    "pool_size_1 = (2,2)\n",
    "\n",
    "x_pl = tf.placeholder(tf.float32, [None, height, width, nchannels], name='xPlaceholder')\n",
    "y_pl = tf.placeholder(tf.float64, [None, height, width, 2], name='yPlaceholder')\n",
    "y_pl = tf.cast(y_pl, tf.float32)\n",
    "\n",
    "print('Trace of the tensors shape as it is propagated through the network.')\n",
    "print('Layer name \\t Output size')\n",
    "print('----------------------------')\n",
    "\n",
    "with tf.variable_scope('convLayer1'):\n",
    "    conv1 = Conv2D(filters_1, kernel_size_1, strides=(1,1), padding=padding, activation='relu')\n",
    "    print('x_pl \\t\\t', x_pl.get_shape())\n",
    "    x = conv1(x_pl)\n",
    "    print('conv1 \\t\\t', x.get_shape())\n",
    "\n",
    "    \"\"\"pool1 = MaxPooling2D(pool_size=pool_size_1, strides=None, padding=padding)\n",
    "    x = pool1(x)\n",
    "    print('pool1 \\t\\t', x.get_shape())\n",
    "    x = flatten(x)\n",
    "    print('Flatten \\t', x.get_shape())\"\"\"\n",
    "\n",
    "\n",
    "\n",
    "with tf.variable_scope('output_layer'):\n",
    "    deconv = Conv2DTranspose(2, kernel_size_1, strides=(1,1), padding=padding, activation='relu')\n",
    "\n",
    "    y = deconv(x)\n",
    "    print('deconv\\t', y.get_shape())\n",
    "\n",
    "print('Model consits of ', utils.num_params(), 'trainable parameters.')\n",
    "\n",
    "gpu_opts = tf.GPUOptions(per_process_gpu_memory_fraction=0.45)\n",
    "\n",
    "\"\"\"## Launch TensorBoard, and visualize the TF graph\n",
    "\n",
    "with tf.Session(config=tf.ConfigProto(gpu_options=gpu_opts)) as sess:\n",
    "    tmp_def = utils.rename_nodes(sess.graph_def, lambda s:\"/\".join(s.split('_',1)))\n",
    "    utils.show_graph(tmp_def)\"\"\"\n",
    "\n",
    "\n",
    "with tf.variable_scope('loss'):\n",
    "    # computing cross entropy per sample\n",
    "    mean_square_error = tf.reduce_mean((y_pl - y) ** 2)\n",
    "\n",
    "\n",
    "\n",
    "with tf.variable_scope('training'):\n",
    "    # defining our optimizer\n",
    "    optimizer = tf.train.AdamOptimizer(learning_rate=0.001)\n",
    "\n",
    "    # applying the gradients\n",
    "    train_op = optimizer.minimize(mean_square_error)\n",
    "\n",
    "\n",
    "#Create the LibriSpeech mixer\n",
    "mixer = LibriSpeechMixer()\n",
    "width = mixer.spec_length\n",
    "validation_mixer = LibriSpeechMixer(False)\n",
    "\n",
    "#Test the forward pass\n",
    "x_batch, y_batch = mixer.get_batch(2)\n",
    "\n",
    "with tf.Session(config=tf.ConfigProto(gpu_options=gpu_opts)) as sess:\n",
    "# with tf.Session() as sess:\n",
    "    sess.run(tf.global_variables_initializer())\n",
    "    y_pred = sess.run(fetches=y, feed_dict={x_pl: x_batch})\n",
    "    y_pred = sess.run(fetches=y, feed_dict={x_pl: x_batch})\n",
    "    \n",
    "    plt.pcolormesh(10 * np.log10(y_pred[0,:,:,0]))\n",
    "    print(y_pred[0,:,:,0])\n",
    "    plt.axis('tight')\n",
    "    plt.ylabel('Frequency [Hz]')\n",
    "    plt.xlabel('Time [sec]')\n",
    "    plt.show()\n",
    "assert y_pred.shape == y_batch.shape, \"ERROR the output shape is not as expected!\"         + \" Output shape should be \" + str(y.shape) + ' but was ' + str(y_pred.shape)\n",
    "\n",
    "print('Forward pass successful!')\n",
    "\n",
    "\n",
    "# ## Training\n",
    "\n",
    "#Training Loop\n",
    "batch_size = 2\n",
    "max_epochs = 1\n",
    "\n",
    "\n",
    "valid_loss = []\n",
    "train_loss = []\n",
    "test_loss = []\n",
    "# restricting memory usage, TensorFlow is greedy and will use all memory otherwise\n",
    "gpu_opts = tf.GPUOptions(per_process_gpu_memory_fraction=0.2)\n",
    "\n",
    "def trainingLoog():\n",
    "    with tf.Session(config=tf.ConfigProto(gpu_options=gpu_opts)) as sess:\n",
    "        sess.run(tf.global_variables_initializer())\n",
    "        print('Begin training loop')\n",
    "\n",
    "        try:\n",
    "\n",
    "            while mixer.epochs_completed < max_epochs:\n",
    "                _train_loss = []\n",
    "\n",
    "                ## Run train op\n",
    "                x_batch, y_batch = mixer.get_batch(batch_size)\n",
    "                fetches_train = [train_op, mean_square_error]\n",
    "                feed_dict_train = {x_pl: x_batch, y_pl: y_batch}\n",
    "                _, _loss = sess.run(fetches_train, feed_dict_train)\n",
    "\n",
    "                _train_loss.append(_loss)\n",
    "\n",
    "                ## Compute validation loss\n",
    "                if mixer.index_in_epoch <= batch_size:\n",
    "                    _valid_loss = []\n",
    "                    train_loss.append(np.mean(_train_loss))\n",
    "\n",
    "                    fetches_valid = [mean_square_error]\n",
    "\n",
    "                    while validation_mixer.epochs_completed <= mixer.epochs_completed:\n",
    "                        x_valid, y_valid = validation_mixer.get_batch(batch_size)\n",
    "                        feed_dict_valid = {x_pl: x_valid, y_pl: y_valid}\n",
    "                        _loss = sess.run(fetches_valid, feed_dict_valid)\n",
    "\n",
    "                        _valid_loss.append(_loss)\n",
    "\n",
    "                    valid_loss.append(np.mean(_valid_loss))\n",
    "\n",
    "\n",
    "                    print(\"Epoch {} : Train Loss {:6.3f}, Valid loss {:6.3f}\".format(\n",
    "                        mixer.epochs_completed, train_loss[-1], valid_loss[-1]))\n",
    "\n",
    "        \n",
    "        except KeyboardInterrupt:\n",
    "            pass\n",
    "        \n",
    "        y_pred = sess.run(fetches=x, feed_dict={x_pl: x_batch})\n",
    "    \n",
    "        plt.pcolormesh(10 * np.log10(y_pred[0,:,:,0]))\n",
    "        print(y_pred[0,:,:,0])\n",
    "        plt.axis('tight')\n",
    "        plt.ylabel('Frequency [Hz]')\n",
    "        plt.xlabel('Time [sec]')\n",
    "        plt.show()\n",
    "    \n",
    "trainingLoog();\n",
    "\n",
    "\n",
    "    \n",
    "epoch = np.arange(len(train_loss))\n",
    "plt.figure()\n",
    "plt.plot(epoch, train_loss,'r', epoch, valid_loss,'b')\n",
    "plt.legend(['Train Loss','Val Loss'], loc=4)\n",
    "plt.xlabel('Epochs'), plt.ylabel('Loss'), plt.ylim([0.75,1.03])"
   ]
  },
  {
   "cell_type": "code",
   "execution_count": 18,
   "metadata": {},
   "outputs": [
    {
     "name": "stdout",
     "output_type": "stream",
     "text": [
      "[[[  4.44380156e+04]\n",
      "  [  6.86100293e+03]\n",
      "  [  1.70777812e+04]\n",
      "  ..., \n",
      "  [  2.08476750e+05]\n",
      "  [  7.19965250e+05]\n",
      "  [  4.80572094e+05]]\n",
      "\n",
      " [[  2.30187025e+06]\n",
      "  [  3.94549925e+06]\n",
      "  [  2.37678781e+05]\n",
      "  ..., \n",
      "  [  1.03267030e+07]\n",
      "  [  9.38457100e+06]\n",
      "  [  1.11344152e+08]]\n",
      "\n",
      " [[  4.33599625e+05]\n",
      "  [  5.53545750e+05]\n",
      "  [  3.19705469e+05]\n",
      "  ..., \n",
      "  [  2.19563797e+05]\n",
      "  [  2.45086425e+06]\n",
      "  [  9.63508480e+07]]\n",
      "\n",
      " ..., \n",
      " [[  6.43919189e+02]\n",
      "  [  1.10687268e+03]\n",
      "  [  2.13324509e+01]\n",
      "  ..., \n",
      "  [  1.10534204e+03]\n",
      "  [  7.41937891e+03]\n",
      "  [  1.02559436e+03]]\n",
      "\n",
      " [[  6.28781548e+01]\n",
      "  [  9.23847412e+02]\n",
      "  [  6.11578186e+02]\n",
      "  ..., \n",
      "  [  6.16732461e+04]\n",
      "  [  1.80806973e+04]\n",
      "  [  1.68554551e+04]]\n",
      "\n",
      " [[  3.03929787e+01]\n",
      "  [  1.12523987e+03]\n",
      "  [  9.80466366e+00]\n",
      "  ..., \n",
      "  [  4.30169062e+04]\n",
      "  [  7.45112061e+03]\n",
      "  [  7.66773047e+03]]]\n"
     ]
    }
   ],
   "source": [
    "x_batch, y_batch = mixer.get_batch(10)\n",
    "print(x_batch[0])"
   ]
  },
  {
   "cell_type": "code",
   "execution_count": null,
   "metadata": {},
   "outputs": [],
   "source": []
  }
 ],
 "metadata": {
  "kernelspec": {
   "display_name": "Python 3",
   "language": "python",
   "name": "python3"
  },
  "language_info": {
   "codemirror_mode": {
    "name": "ipython",
    "version": 3
   },
   "file_extension": ".py",
   "mimetype": "text/x-python",
   "name": "python",
   "nbconvert_exporter": "python",
   "pygments_lexer": "ipython3",
   "version": "3.5.2"
  }
 },
 "nbformat": 4,
 "nbformat_minor": 2
}
